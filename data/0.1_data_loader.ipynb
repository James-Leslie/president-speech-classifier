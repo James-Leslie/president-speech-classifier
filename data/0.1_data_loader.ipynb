{
 "cells": [
  {
   "cell_type": "markdown",
   "metadata": {
    "colab_type": "text",
    "id": "bmogXZNrr1WS"
   },
   "source": [
    "# Data Loader"
   ]
  },
  {
   "cell_type": "markdown",
   "metadata": {
    "colab_type": "text",
    "id": "_FaCFMgOrY_3"
   },
   "source": [
    "The flow of data through the pipeline of this project is as follows:\n",
    "\n",
    "1. The raw text data files are parsed and concatenated within _this_ notebook. The output from this notebook is called **`speeches.csv`**.\n",
    "2. **`speeches.csv`** is ingested by **`pre-processing.ipynb`**. It undergoes further processing and is outputted in a file called **`model_input.csv`**.\n",
    "3. Finally, **`model_input.csv`** is ingested by **`classifer.ipynb`** and used for class balancing and classification."
   ]
  },
  {
   "cell_type": "code",
   "execution_count": 1,
   "metadata": {
    "colab": {},
    "colab_type": "code",
    "id": "vbSzOisUPsIP"
   },
   "outputs": [],
   "source": [
    "import pandas as pd\n",
    "import codecs\n",
    "import os\n",
    "\n",
    "# only SONA speeches\n",
    "path = './speeches/'\n",
    "\n",
    "# additional speeches for minority classes\n",
    "# path = './speeches_additional/'"
   ]
  },
  {
   "cell_type": "code",
   "execution_count": 2,
   "metadata": {
    "colab": {},
    "colab_type": "code",
    "id": "1eG_dyYjPsIU"
   },
   "outputs": [],
   "source": [
    "# each row of the DataFrame will represent one line from a speech\n",
    "df = pd.DataFrame(columns=['labels', 'text', 'year'])"
   ]
  },
  {
   "cell_type": "markdown",
   "metadata": {
    "colab_type": "text",
    "id": "zbigXjAQ-o3d"
   },
   "source": [
    "## Encode President Names\n",
    "President names will be encoded chronologically."
   ]
  },
  {
   "cell_type": "code",
   "execution_count": 3,
   "metadata": {
    "colab": {},
    "colab_type": "code",
    "id": "S1VLzMHG-o3d"
   },
   "outputs": [],
   "source": [
    "# encoding of president names\n",
    "pres = {'deKlerk': 0,\n",
    "        'Mandela': 1,\n",
    "        'Mbeki': 2,\n",
    "        'Motlanthe': 3,\n",
    "        'Zuma': 4,\n",
    "        'Ramaphosa': 5}"
   ]
  },
  {
   "cell_type": "code",
   "execution_count": 4,
   "metadata": {
    "colab": {},
    "colab_type": "code",
    "id": "k-ie8wO0PsIX"
   },
   "outputs": [],
   "source": [
    "# loop through all the files in the data folder\n",
    "for file_name in os.listdir(path):\n",
    "\n",
    "    # extract year and name of president from file name\n",
    "    year, pres_name = file_name[:-4].replace('_', ' ').split()\n",
    "\n",
    "    # open file\n",
    "    file = codecs.open(path + file_name, 'r', encoding='utf-8')\n",
    "\n",
    "    # read speech in as list\n",
    "    speech = file.readlines()\n",
    "\n",
    "    # skip the date header\n",
    "    for line in speech[1:]:\n",
    "\n",
    "        # remove commas\n",
    "        line = line.replace(',', ' ')\n",
    "\n",
    "        # remove extra whitespace\n",
    "        line = \" \".join(line.split())\n",
    "\n",
    "        # ignore paragraph breaks / double line skips\n",
    "        if len(line) > 1:\n",
    "            df = df.append({'labels': pres[pres_name],\n",
    "                            'text': line,\n",
    "                            'year': year},\n",
    "                            ignore_index=True)"
   ]
  },
  {
   "cell_type": "code",
   "execution_count": 5,
   "metadata": {
    "colab": {},
    "colab_type": "code",
    "id": "x7_OBDQO-o3h",
    "outputId": "2615f2d9-388a-451f-cf0d-cdd116f582eb"
   },
   "outputs": [
    {
     "data": {
      "text/html": [
       "<div>\n",
       "<style scoped>\n",
       "    .dataframe tbody tr th:only-of-type {\n",
       "        vertical-align: middle;\n",
       "    }\n",
       "\n",
       "    .dataframe tbody tr th {\n",
       "        vertical-align: top;\n",
       "    }\n",
       "\n",
       "    .dataframe thead th {\n",
       "        text-align: right;\n",
       "    }\n",
       "</style>\n",
       "<table border=\"1\" class=\"dataframe\">\n",
       "  <thead>\n",
       "    <tr style=\"text-align: right;\">\n",
       "      <th></th>\n",
       "      <th>labels</th>\n",
       "      <th>text</th>\n",
       "      <th>year</th>\n",
       "    </tr>\n",
       "  </thead>\n",
       "  <tbody>\n",
       "    <tr>\n",
       "      <th>0</th>\n",
       "      <td>0</td>\n",
       "      <td>Mr Speaker</td>\n",
       "      <td>1994</td>\n",
       "    </tr>\n",
       "    <tr>\n",
       "      <th>1</th>\n",
       "      <td>0</td>\n",
       "      <td>This Parliament has convened to adopt importan...</td>\n",
       "      <td>1994</td>\n",
       "    </tr>\n",
       "    <tr>\n",
       "      <th>2</th>\n",
       "      <td>0</td>\n",
       "      <td>The fact that we have done so in the midst of ...</td>\n",
       "      <td>1994</td>\n",
       "    </tr>\n",
       "    <tr>\n",
       "      <th>3</th>\n",
       "      <td>0</td>\n",
       "      <td>If we wish to have a peaceful and stable futur...</td>\n",
       "      <td>1994</td>\n",
       "    </tr>\n",
       "    <tr>\n",
       "      <th>4</th>\n",
       "      <td>0</td>\n",
       "      <td>It is essential that no-one and no party shoul...</td>\n",
       "      <td>1994</td>\n",
       "    </tr>\n",
       "  </tbody>\n",
       "</table>\n",
       "</div>"
      ],
      "text/plain": [
       "  labels                                               text  year\n",
       "0      0                                         Mr Speaker  1994\n",
       "1      0  This Parliament has convened to adopt importan...  1994\n",
       "2      0  The fact that we have done so in the midst of ...  1994\n",
       "3      0  If we wish to have a peaceful and stable futur...  1994\n",
       "4      0  It is essential that no-one and no party shoul...  1994"
      ]
     },
     "execution_count": 5,
     "metadata": {},
     "output_type": "execute_result"
    }
   ],
   "source": [
    "df.head()"
   ]
  },
  {
   "cell_type": "markdown",
   "metadata": {
    "colab_type": "text",
    "id": "d7SbBbeM-o3l"
   },
   "source": [
    "### Number of Lines of Text in Total"
   ]
  },
  {
   "cell_type": "code",
   "execution_count": 6,
   "metadata": {
    "colab": {},
    "colab_type": "code",
    "id": "H5ldTPSG-o3m",
    "outputId": "406baba2-a39e-469c-a41b-0106255a545e"
   },
   "outputs": [
    {
     "data": {
      "text/plain": [
       "(6259, 3)"
      ]
     },
     "execution_count": 6,
     "metadata": {},
     "output_type": "execute_result"
    }
   ],
   "source": [
    "df.shape"
   ]
  },
  {
   "cell_type": "markdown",
   "metadata": {
    "colab_type": "text",
    "id": "fwmRHd7y-o3q"
   },
   "source": [
    "### Number of Lines of Text per President"
   ]
  },
  {
   "cell_type": "code",
   "execution_count": 7,
   "metadata": {
    "colab": {},
    "colab_type": "code",
    "id": "NDXq0wvD-o3q",
    "outputId": "e00efd1e-d8d2-40b9-ff88-414907381509"
   },
   "outputs": [
    {
     "data": {
      "text/plain": [
       "4    2562\n",
       "2    2055\n",
       "1    1074\n",
       "5     272\n",
       "3     224\n",
       "0      72\n",
       "Name: labels, dtype: int64"
      ]
     },
     "execution_count": 7,
     "metadata": {},
     "output_type": "execute_result"
    }
   ],
   "source": [
    "df['labels'].value_counts()"
   ]
  },
  {
   "cell_type": "markdown",
   "metadata": {
    "colab_type": "text",
    "id": "msrwwvgE-o3s"
   },
   "source": [
    "### Save the File to CSV for the Next Notebook"
   ]
  },
  {
   "cell_type": "code",
   "execution_count": 8,
   "metadata": {
    "colab": {},
    "colab_type": "code",
    "id": "_5xtF7rnPsIa"
   },
   "outputs": [],
   "source": [
    "# save the file to csv\n",
    "df.to_csv('speeches.csv', encoding='utf-8', index=False)"
   ]
  }
 ],
 "metadata": {
  "colab": {
   "collapsed_sections": [],
   "name": "data_loader.ipynb",
   "provenance": [],
   "version": "0.3.2"
  },
  "kernelspec": {
   "display_name": "Python 3",
   "language": "python",
   "name": "python3"
  },
  "language_info": {
   "codemirror_mode": {
    "name": "ipython",
    "version": 3
   },
   "file_extension": ".py",
   "mimetype": "text/x-python",
   "name": "python",
   "nbconvert_exporter": "python",
   "pygments_lexer": "ipython3",
   "version": "3.6.6"
  }
 },
 "nbformat": 4,
 "nbformat_minor": 2
}
