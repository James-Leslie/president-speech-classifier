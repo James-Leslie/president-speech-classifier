{
 "cells": [
  {
   "cell_type": "markdown",
   "metadata": {
    "colab_type": "text",
    "id": "zqpLcL8WkuCY"
   },
   "source": [
    "# Pre-Processing"
   ]
  },
  {
   "cell_type": "markdown",
   "metadata": {
    "colab_type": "text",
    "id": "4It7hlPQp7uy"
   },
   "source": [
    "The flow of data through the pipeline of this project is as follows:\n",
    "\n",
    "1. The raw text data files are parsed and concatenated within the **`data_loader.ipynb`** notebook. The output from that notebook is called **`speeches.csv`**\n",
    "2. **`speeches.csv`** is ingested by _this_ notebook in the code block below. It undergoes further processing and is outputted in a file called **`model_input.csv`**.\n",
    "3. Finally, **`model_input.csv`** is ingested by **`classifer.ipynb`** and used for class balancing and classification."
   ]
  },
  {
   "cell_type": "code",
   "execution_count": 1,
   "metadata": {
    "colab": {},
    "colab_type": "code",
    "id": "ahXVraYZjmY8"
   },
   "outputs": [],
   "source": [
    "import pandas as pd\n",
    "import numpy as np\n",
    "import string\n",
    "import re"
   ]
  },
  {
   "cell_type": "markdown",
   "metadata": {},
   "source": [
    "### Load speech data"
   ]
  },
  {
   "cell_type": "code",
   "execution_count": 2,
   "metadata": {
    "colab": {},
    "colab_type": "code",
    "id": "blv8N_zlaHRu"
   },
   "outputs": [],
   "source": [
    "# use SONA speeches only\n",
    "# df = pd.read_csv('../data/speeches.csv')\n",
    "\n",
    "# use additional speeches for minority classes\n",
    "df = pd.read_csv('../data/speeches_extended.csv')"
   ]
  },
  {
   "cell_type": "markdown",
   "metadata": {
    "colab_type": "text",
    "id": "fzQ03mS3A485"
   },
   "source": [
    "## Overview of Data Pre-Processing\n",
    "\n",
    "The **`labels`** column in the data set contains an integer value between 0 and 5. These values represent which president said a given line in the data set. The value correspond to the chronological order of the presidents, starting with FW de Klerk in 1994, ending with Cyril Ramaphosa in 2017.   \n",
    "\n",
    "The **`text`** column contains lines from the state of the nation addresses given over the last 15 years."
   ]
  },
  {
   "cell_type": "code",
   "execution_count": 3,
   "metadata": {
    "colab": {},
    "colab_type": "code",
    "id": "EyfZ3E3DNWU5"
   },
   "outputs": [
    {
     "data": {
      "text/html": [
       "<div>\n",
       "<style scoped>\n",
       "    .dataframe tbody tr th:only-of-type {\n",
       "        vertical-align: middle;\n",
       "    }\n",
       "\n",
       "    .dataframe tbody tr th {\n",
       "        vertical-align: top;\n",
       "    }\n",
       "\n",
       "    .dataframe thead th {\n",
       "        text-align: right;\n",
       "    }\n",
       "</style>\n",
       "<table border=\"1\" class=\"dataframe\">\n",
       "  <thead>\n",
       "    <tr style=\"text-align: right;\">\n",
       "      <th></th>\n",
       "      <th>labels</th>\n",
       "      <th>text</th>\n",
       "      <th>year</th>\n",
       "    </tr>\n",
       "  </thead>\n",
       "  <tbody>\n",
       "    <tr>\n",
       "      <th>0</th>\n",
       "      <td>0</td>\n",
       "      <td>The general election on September the 6th 1989...</td>\n",
       "      <td>1990</td>\n",
       "    </tr>\n",
       "    <tr>\n",
       "      <th>1</th>\n",
       "      <td>0</td>\n",
       "      <td>The alternative is growing violence tension an...</td>\n",
       "      <td>1990</td>\n",
       "    </tr>\n",
       "    <tr>\n",
       "      <th>2</th>\n",
       "      <td>0</td>\n",
       "      <td>On its part the Government will accord the pro...</td>\n",
       "      <td>1990</td>\n",
       "    </tr>\n",
       "    <tr>\n",
       "      <th>3</th>\n",
       "      <td>0</td>\n",
       "      <td>I hope that this new Parliament will play a co...</td>\n",
       "      <td>1990</td>\n",
       "    </tr>\n",
       "    <tr>\n",
       "      <th>4</th>\n",
       "      <td>0</td>\n",
       "      <td>* Let us put petty politics aside when we disc...</td>\n",
       "      <td>1990</td>\n",
       "    </tr>\n",
       "  </tbody>\n",
       "</table>\n",
       "</div>"
      ],
      "text/plain": [
       "   labels                                               text  year\n",
       "0       0  The general election on September the 6th 1989...  1990\n",
       "1       0  The alternative is growing violence tension an...  1990\n",
       "2       0  On its part the Government will accord the pro...  1990\n",
       "3       0  I hope that this new Parliament will play a co...  1990\n",
       "4       0  * Let us put petty politics aside when we disc...  1990"
      ]
     },
     "execution_count": 3,
     "metadata": {},
     "output_type": "execute_result"
    }
   ],
   "source": [
    "# show some of the data\n",
    "df.head(5)"
   ]
  },
  {
   "cell_type": "code",
   "execution_count": 4,
   "metadata": {},
   "outputs": [
    {
     "data": {
      "text/plain": [
       "(6559, 3)"
      ]
     },
     "execution_count": 4,
     "metadata": {},
     "output_type": "execute_result"
    }
   ],
   "source": [
    "df.shape"
   ]
  },
  {
   "cell_type": "markdown",
   "metadata": {
    "colab_type": "text",
    "id": "sa9K87rMvwtL"
   },
   "source": [
    "### Number of Lines per President"
   ]
  },
  {
   "cell_type": "code",
   "execution_count": 5,
   "metadata": {
    "colab": {},
    "colab_type": "code",
    "id": "8ms1HDSKvhmF"
   },
   "outputs": [
    {
     "data": {
      "text/plain": [
       "4    2562\n",
       "2    2055\n",
       "1    1074\n",
       "5     379\n",
       "3     281\n",
       "0     208\n",
       "Name: labels, dtype: int64"
      ]
     },
     "execution_count": 5,
     "metadata": {},
     "output_type": "execute_result"
    }
   ],
   "source": [
    "df['labels'].value_counts()"
   ]
  },
  {
   "cell_type": "code",
   "execution_count": 6,
   "metadata": {
    "colab": {},
    "colab_type": "code",
    "id": "SLSNOrLYo4n9"
   },
   "outputs": [
    {
     "data": {
      "text/plain": [
       "'On its part the Government will accord the process of negotiation the highest priority. The aim is a totally new and just constitutional dispensation in which every inhabitant will enjoy equal rights treatment and opportunity in every sphere of endeavour - constitutional social and economic.'"
      ]
     },
     "execution_count": 6,
     "metadata": {},
     "output_type": "execute_result"
    }
   ],
   "source": [
    "df['text'][2]"
   ]
  },
  {
   "cell_type": "markdown",
   "metadata": {
    "colab_type": "text",
    "id": "S7ickvhopMoF"
   },
   "source": [
    "### Split Lines On End Characters\n",
    "\n",
    "Taking for example the sentence above, there are some lines which contain multiple sentences. The original data was split into rows at every new line character, but we will need to further split the data at every full stop, question mark and exclamation mark."
   ]
  },
  {
   "cell_type": "code",
   "execution_count": 7,
   "metadata": {
    "colab": {},
    "colab_type": "code",
    "id": "oHf4aG0BpLMq"
   },
   "outputs": [],
   "source": [
    "def divide_on(df, char):\n",
    "  # iterate over text column of DataFrame, splitting at each occurrence of char\n",
    "\n",
    "  sentences = []\n",
    "  # let's split the data into senteces\n",
    "  for i, row in df.iterrows():\n",
    "\n",
    "      for sentence in row['text'].split(char):\n",
    "          sentences.append([row['labels'], sentence])\n",
    "\n",
    "  df = pd.DataFrame(sentences, columns=['labels', 'text'])\n",
    "  \n",
    "  return df[df['text'] != '']"
   ]
  },
  {
   "cell_type": "code",
   "execution_count": 8,
   "metadata": {
    "colab": {},
    "colab_type": "code",
    "id": "WF-NDcyLugVE"
   },
   "outputs": [],
   "source": [
    "df = divide_on(df, '.')\n",
    "df = divide_on(df, '?')\n",
    "df = divide_on(df, '!')"
   ]
  },
  {
   "cell_type": "code",
   "execution_count": 9,
   "metadata": {
    "colab": {},
    "colab_type": "code",
    "id": "h2MJpL40u0aa"
   },
   "outputs": [
    {
     "data": {
      "text/html": [
       "<div>\n",
       "<style scoped>\n",
       "    .dataframe tbody tr th:only-of-type {\n",
       "        vertical-align: middle;\n",
       "    }\n",
       "\n",
       "    .dataframe tbody tr th {\n",
       "        vertical-align: top;\n",
       "    }\n",
       "\n",
       "    .dataframe thead th {\n",
       "        text-align: right;\n",
       "    }\n",
       "</style>\n",
       "<table border=\"1\" class=\"dataframe\">\n",
       "  <thead>\n",
       "    <tr style=\"text-align: right;\">\n",
       "      <th></th>\n",
       "      <th>labels</th>\n",
       "      <th>text</th>\n",
       "    </tr>\n",
       "  </thead>\n",
       "  <tbody>\n",
       "    <tr>\n",
       "      <th>0</th>\n",
       "      <td>0</td>\n",
       "      <td>The general election on September the 6th 1989...</td>\n",
       "    </tr>\n",
       "    <tr>\n",
       "      <th>1</th>\n",
       "      <td>0</td>\n",
       "      <td>Underlying this is the growing realisation by...</td>\n",
       "    </tr>\n",
       "    <tr>\n",
       "      <th>2</th>\n",
       "      <td>0</td>\n",
       "      <td>The alternative is growing violence tension an...</td>\n",
       "    </tr>\n",
       "    <tr>\n",
       "      <th>3</th>\n",
       "      <td>0</td>\n",
       "      <td>That is unacceptable and in nobody's interest</td>\n",
       "    </tr>\n",
       "    <tr>\n",
       "      <th>4</th>\n",
       "      <td>0</td>\n",
       "      <td>The well-being of all in this country is link...</td>\n",
       "    </tr>\n",
       "  </tbody>\n",
       "</table>\n",
       "</div>"
      ],
      "text/plain": [
       "   labels                                               text\n",
       "0       0  The general election on September the 6th 1989...\n",
       "1       0   Underlying this is the growing realisation by...\n",
       "2       0  The alternative is growing violence tension an...\n",
       "3       0      That is unacceptable and in nobody's interest\n",
       "4       0   The well-being of all in this country is link..."
      ]
     },
     "execution_count": 9,
     "metadata": {},
     "output_type": "execute_result"
    }
   ],
   "source": [
    "df.head(5)"
   ]
  },
  {
   "cell_type": "code",
   "execution_count": 10,
   "metadata": {},
   "outputs": [
    {
     "data": {
      "text/plain": [
       "(9310, 2)"
      ]
     },
     "execution_count": 10,
     "metadata": {},
     "output_type": "execute_result"
    }
   ],
   "source": [
    "df.shape"
   ]
  },
  {
   "cell_type": "markdown",
   "metadata": {},
   "source": [
    "### Number of sentences per president"
   ]
  },
  {
   "cell_type": "code",
   "execution_count": 11,
   "metadata": {
    "colab": {},
    "colab_type": "code",
    "id": "Ogm_aibQJqkg"
   },
   "outputs": [
    {
     "data": {
      "text/plain": [
       "4    3203\n",
       "2    3149\n",
       "1    1796\n",
       "3     401\n",
       "5     389\n",
       "0     372\n",
       "Name: labels, dtype: int64"
      ]
     },
     "execution_count": 11,
     "metadata": {},
     "output_type": "execute_result"
    }
   ],
   "source": [
    "df['labels'].value_counts()"
   ]
  },
  {
   "cell_type": "code",
   "execution_count": 12,
   "metadata": {
    "colab": {},
    "colab_type": "code",
    "id": "Ogm_aibQJqkg"
   },
   "outputs": [
    {
     "data": {
      "text/plain": [
       "4    0.362289\n",
       "2    0.356181\n",
       "1    0.203144\n",
       "3    0.045357\n",
       "5    0.044000\n",
       "0    0.042077\n",
       "Name: labels, dtype: float64"
      ]
     },
     "execution_count": 12,
     "metadata": {},
     "output_type": "execute_result"
    }
   ],
   "source": [
    "# proportion of total\n",
    "df['labels'].value_counts()/8841"
   ]
  },
  {
   "cell_type": "markdown",
   "metadata": {
    "colab_type": "text",
    "id": "D-0xUrL0wCDT"
   },
   "source": [
    "After splitting the data into individual sentences, we now have more observations for each president."
   ]
  },
  {
   "cell_type": "markdown",
   "metadata": {
    "colab_type": "text",
    "id": "LSrkl4izmdPD"
   },
   "source": [
    "### Remove Punctuation"
   ]
  },
  {
   "cell_type": "code",
   "execution_count": 13,
   "metadata": {
    "colab": {},
    "colab_type": "code",
    "id": "rkcljsl6mg_w"
   },
   "outputs": [],
   "source": [
    "def remove_punctuation(text):\n",
    "  return ''.join([char for char in text if char == '-' or char not in string.punctuation])\n",
    "\n",
    "\n",
    "df['text'] = df['text'].apply(remove_punctuation)"
   ]
  },
  {
   "cell_type": "markdown",
   "metadata": {
    "colab_type": "text",
    "id": "bQY5KUUvXTVr"
   },
   "source": [
    "### Remove Special Characters"
   ]
  },
  {
   "cell_type": "code",
   "execution_count": 14,
   "metadata": {
    "colab": {},
    "colab_type": "code",
    "id": "IgxX854SXS6V"
   },
   "outputs": [],
   "source": [
    "def remove_spec(text):\n",
    "  return text.replace(r'^[*-]', '')\n",
    "  \n",
    "df['text'] = df['text'].apply(remove_spec)"
   ]
  },
  {
   "cell_type": "markdown",
   "metadata": {
    "colab_type": "text",
    "id": "V2NOqj5fnU_1"
   },
   "source": [
    "### Make Lower Case"
   ]
  },
  {
   "cell_type": "code",
   "execution_count": 15,
   "metadata": {
    "colab": {},
    "colab_type": "code",
    "id": "Mo-2XZXMnZ3G"
   },
   "outputs": [],
   "source": [
    "df['text'] = df['text'].str.lower()"
   ]
  },
  {
   "cell_type": "code",
   "execution_count": 16,
   "metadata": {
    "colab": {},
    "colab_type": "code",
    "id": "s5aqahtKnfOA"
   },
   "outputs": [
    {
     "data": {
      "text/html": [
       "<div>\n",
       "<style scoped>\n",
       "    .dataframe tbody tr th:only-of-type {\n",
       "        vertical-align: middle;\n",
       "    }\n",
       "\n",
       "    .dataframe tbody tr th {\n",
       "        vertical-align: top;\n",
       "    }\n",
       "\n",
       "    .dataframe thead th {\n",
       "        text-align: right;\n",
       "    }\n",
       "</style>\n",
       "<table border=\"1\" class=\"dataframe\">\n",
       "  <thead>\n",
       "    <tr style=\"text-align: right;\">\n",
       "      <th></th>\n",
       "      <th>labels</th>\n",
       "      <th>text</th>\n",
       "    </tr>\n",
       "  </thead>\n",
       "  <tbody>\n",
       "    <tr>\n",
       "      <th>0</th>\n",
       "      <td>0</td>\n",
       "      <td>the general election on september the 6th 1989...</td>\n",
       "    </tr>\n",
       "    <tr>\n",
       "      <th>1</th>\n",
       "      <td>0</td>\n",
       "      <td>underlying this is the growing realisation by...</td>\n",
       "    </tr>\n",
       "    <tr>\n",
       "      <th>2</th>\n",
       "      <td>0</td>\n",
       "      <td>the alternative is growing violence tension an...</td>\n",
       "    </tr>\n",
       "    <tr>\n",
       "      <th>3</th>\n",
       "      <td>0</td>\n",
       "      <td>that is unacceptable and in nobodys interest</td>\n",
       "    </tr>\n",
       "    <tr>\n",
       "      <th>4</th>\n",
       "      <td>0</td>\n",
       "      <td>the well-being of all in this country is link...</td>\n",
       "    </tr>\n",
       "  </tbody>\n",
       "</table>\n",
       "</div>"
      ],
      "text/plain": [
       "   labels                                               text\n",
       "0       0  the general election on september the 6th 1989...\n",
       "1       0   underlying this is the growing realisation by...\n",
       "2       0  the alternative is growing violence tension an...\n",
       "3       0       that is unacceptable and in nobodys interest\n",
       "4       0   the well-being of all in this country is link..."
      ]
     },
     "execution_count": 16,
     "metadata": {},
     "output_type": "execute_result"
    }
   ],
   "source": [
    "df.head(5)"
   ]
  },
  {
   "cell_type": "markdown",
   "metadata": {
    "colab_type": "text",
    "id": "mk0OThS70Rni"
   },
   "source": [
    "### Sentence Length"
   ]
  },
  {
   "cell_type": "code",
   "execution_count": 17,
   "metadata": {
    "colab": {},
    "colab_type": "code",
    "id": "SEFpqVnKyNod"
   },
   "outputs": [],
   "source": [
    "# get length of sentence as variable\n",
    "df['length'] = df['text'].apply(len)"
   ]
  },
  {
   "cell_type": "code",
   "execution_count": 18,
   "metadata": {
    "colab": {},
    "colab_type": "code",
    "id": "XgBeqB5_ybLc"
   },
   "outputs": [
    {
     "data": {
      "text/html": [
       "<div>\n",
       "<style scoped>\n",
       "    .dataframe tbody tr th:only-of-type {\n",
       "        vertical-align: middle;\n",
       "    }\n",
       "\n",
       "    .dataframe tbody tr th {\n",
       "        vertical-align: top;\n",
       "    }\n",
       "\n",
       "    .dataframe thead th {\n",
       "        text-align: right;\n",
       "    }\n",
       "</style>\n",
       "<table border=\"1\" class=\"dataframe\">\n",
       "  <thead>\n",
       "    <tr style=\"text-align: right;\">\n",
       "      <th></th>\n",
       "      <th>labels</th>\n",
       "      <th>text</th>\n",
       "      <th>length</th>\n",
       "    </tr>\n",
       "  </thead>\n",
       "  <tbody>\n",
       "    <tr>\n",
       "      <th>5684</th>\n",
       "      <td>3</td>\n",
       "      <td>facilitating the processes aimed at strengthen...</td>\n",
       "      <td>718</td>\n",
       "    </tr>\n",
       "    <tr>\n",
       "      <th>1528</th>\n",
       "      <td>1</td>\n",
       "      <td>we recognise the buhlebemvelo garden project f...</td>\n",
       "      <td>641</td>\n",
       "    </tr>\n",
       "    <tr>\n",
       "      <th>5168</th>\n",
       "      <td>2</td>\n",
       "      <td>it was the best of times it was the worst of t...</td>\n",
       "      <td>595</td>\n",
       "    </tr>\n",
       "    <tr>\n",
       "      <th>5289</th>\n",
       "      <td>2</td>\n",
       "      <td>speeding up land and agrarian reform with det...</td>\n",
       "      <td>554</td>\n",
       "    </tr>\n",
       "    <tr>\n",
       "      <th>1955</th>\n",
       "      <td>1</td>\n",
       "      <td>the second element is discipline - the balance...</td>\n",
       "      <td>537</td>\n",
       "    </tr>\n",
       "    <tr>\n",
       "      <th>4983</th>\n",
       "      <td>2</td>\n",
       "      <td>i would like to take advantage of this occasio...</td>\n",
       "      <td>517</td>\n",
       "    </tr>\n",
       "    <tr>\n",
       "      <th>3824</th>\n",
       "      <td>2</td>\n",
       "      <td>the iraq affair the continuing and painful con...</td>\n",
       "      <td>513</td>\n",
       "    </tr>\n",
       "    <tr>\n",
       "      <th>5034</th>\n",
       "      <td>2</td>\n",
       "      <td>speeding up the implementation of the taxi re...</td>\n",
       "      <td>502</td>\n",
       "    </tr>\n",
       "    <tr>\n",
       "      <th>2547</th>\n",
       "      <td>2</td>\n",
       "      <td>recognising the fact that we still have this o...</td>\n",
       "      <td>498</td>\n",
       "    </tr>\n",
       "    <tr>\n",
       "      <th>1492</th>\n",
       "      <td>1</td>\n",
       "      <td>but they know better than any politician that ...</td>\n",
       "      <td>489</td>\n",
       "    </tr>\n",
       "  </tbody>\n",
       "</table>\n",
       "</div>"
      ],
      "text/plain": [
       "      labels                                               text  length\n",
       "5684       3  facilitating the processes aimed at strengthen...     718\n",
       "1528       1  we recognise the buhlebemvelo garden project f...     641\n",
       "5168       2  it was the best of times it was the worst of t...     595\n",
       "5289       2   speeding up land and agrarian reform with det...     554\n",
       "1955       1  the second element is discipline - the balance...     537\n",
       "4983       2  i would like to take advantage of this occasio...     517\n",
       "3824       2  the iraq affair the continuing and painful con...     513\n",
       "5034       2   speeding up the implementation of the taxi re...     502\n",
       "2547       2  recognising the fact that we still have this o...     498\n",
       "1492       1  but they know better than any politician that ...     489"
      ]
     },
     "execution_count": 18,
     "metadata": {},
     "output_type": "execute_result"
    }
   ],
   "source": [
    "# what are our longest sentences?\n",
    "df.sort_values(by='length', ascending=False).head(10)"
   ]
  },
  {
   "cell_type": "code",
   "execution_count": 19,
   "metadata": {
    "colab": {},
    "colab_type": "code",
    "id": "9GieK80QzF5B"
   },
   "outputs": [
    {
     "data": {
      "text/plain": [
       "'facilitating the processes aimed at strengthening the machineries dealing with matters of gender equality such as 5050 representation in decision-making structures youth development the rights of people with disability and children’s rights – including completing consultations on the national youth policy preparing for the implementation of the african youth charter once it has been processed by parliament and for the setting up of the national youth development agency submitting the sadc protocol on gender and development to parliament strengthening advocacy on the rights of people with disability and extending the number of municipalities that have set up children’s rights focal points beyond the current 60'"
      ]
     },
     "execution_count": 19,
     "metadata": {},
     "output_type": "execute_result"
    }
   ],
   "source": [
    "df.loc[5684][1]"
   ]
  },
  {
   "cell_type": "markdown",
   "metadata": {
    "colab_type": "text",
    "id": "gw8zg9pT18BD"
   },
   "source": [
    "There are a few sentences which contain more than 500 characters. Although somewhat long-winded, they are all technically still single sentences.   \n",
    "\n",
    "Let's take a look at the other end of the spectrum:"
   ]
  },
  {
   "cell_type": "code",
   "execution_count": 20,
   "metadata": {
    "colab": {},
    "colab_type": "code",
    "id": "Zl49Ewtyycgt"
   },
   "outputs": [
    {
     "data": {
      "text/html": [
       "<div>\n",
       "<style scoped>\n",
       "    .dataframe tbody tr th:only-of-type {\n",
       "        vertical-align: middle;\n",
       "    }\n",
       "\n",
       "    .dataframe tbody tr th {\n",
       "        vertical-align: top;\n",
       "    }\n",
       "\n",
       "    .dataframe thead th {\n",
       "        text-align: right;\n",
       "    }\n",
       "</style>\n",
       "<table border=\"1\" class=\"dataframe\">\n",
       "  <thead>\n",
       "    <tr style=\"text-align: right;\">\n",
       "      <th></th>\n",
       "      <th>labels</th>\n",
       "      <th>text</th>\n",
       "      <th>length</th>\n",
       "    </tr>\n",
       "  </thead>\n",
       "  <tbody>\n",
       "    <tr>\n",
       "      <th>7287</th>\n",
       "      <td>4</td>\n",
       "      <td></td>\n",
       "      <td>0</td>\n",
       "    </tr>\n",
       "    <tr>\n",
       "      <th>5767</th>\n",
       "      <td>4</td>\n",
       "      <td></td>\n",
       "      <td>0</td>\n",
       "    </tr>\n",
       "    <tr>\n",
       "      <th>7353</th>\n",
       "      <td>4</td>\n",
       "      <td></td>\n",
       "      <td>0</td>\n",
       "    </tr>\n",
       "    <tr>\n",
       "      <th>3838</th>\n",
       "      <td>2</td>\n",
       "      <td></td>\n",
       "      <td>0</td>\n",
       "    </tr>\n",
       "    <tr>\n",
       "      <th>3767</th>\n",
       "      <td>2</td>\n",
       "      <td></td>\n",
       "      <td>0</td>\n",
       "    </tr>\n",
       "  </tbody>\n",
       "</table>\n",
       "</div>"
      ],
      "text/plain": [
       "      labels text  length\n",
       "7287       4            0\n",
       "5767       4            0\n",
       "7353       4            0\n",
       "3838       2            0\n",
       "3767       2            0"
      ]
     },
     "execution_count": 20,
     "metadata": {},
     "output_type": "execute_result"
    }
   ],
   "source": [
    "# what are our shortest sentences?\n",
    "df.sort_values(by='length').head(5)"
   ]
  },
  {
   "cell_type": "code",
   "execution_count": 21,
   "metadata": {
    "colab": {},
    "colab_type": "code",
    "id": "pd_aaEUNyrGE"
   },
   "outputs": [],
   "source": [
    "# sentences with just a few characters are of no use to us\n",
    "df = df[df['length']>8]"
   ]
  },
  {
   "cell_type": "code",
   "execution_count": 22,
   "metadata": {
    "colab": {},
    "colab_type": "code",
    "id": "J4f_1UVpy2Nh"
   },
   "outputs": [
    {
     "data": {
      "text/html": [
       "<div>\n",
       "<style scoped>\n",
       "    .dataframe tbody tr th:only-of-type {\n",
       "        vertical-align: middle;\n",
       "    }\n",
       "\n",
       "    .dataframe tbody tr th {\n",
       "        vertical-align: top;\n",
       "    }\n",
       "\n",
       "    .dataframe thead th {\n",
       "        text-align: right;\n",
       "    }\n",
       "</style>\n",
       "<table border=\"1\" class=\"dataframe\">\n",
       "  <thead>\n",
       "    <tr style=\"text-align: right;\">\n",
       "      <th></th>\n",
       "      <th>labels</th>\n",
       "      <th>text</th>\n",
       "      <th>length</th>\n",
       "    </tr>\n",
       "  </thead>\n",
       "  <tbody>\n",
       "    <tr>\n",
       "      <th>4801</th>\n",
       "      <td>2</td>\n",
       "      <td>thank you</td>\n",
       "      <td>9</td>\n",
       "    </tr>\n",
       "    <tr>\n",
       "      <th>778</th>\n",
       "      <td>1</td>\n",
       "      <td>thank you</td>\n",
       "      <td>9</td>\n",
       "    </tr>\n",
       "    <tr>\n",
       "      <th>2800</th>\n",
       "      <td>2</td>\n",
       "      <td>thank you</td>\n",
       "      <td>9</td>\n",
       "    </tr>\n",
       "    <tr>\n",
       "      <th>8922</th>\n",
       "      <td>4</td>\n",
       "      <td>4 percent</td>\n",
       "      <td>9</td>\n",
       "    </tr>\n",
       "    <tr>\n",
       "      <th>4447</th>\n",
       "      <td>2</td>\n",
       "      <td>thank you</td>\n",
       "      <td>9</td>\n",
       "    </tr>\n",
       "  </tbody>\n",
       "</table>\n",
       "</div>"
      ],
      "text/plain": [
       "      labels       text  length\n",
       "4801       2  thank you       9\n",
       "778        1  thank you       9\n",
       "2800       2  thank you       9\n",
       "8922       4  4 percent       9\n",
       "4447       2  thank you       9"
      ]
     },
     "execution_count": 22,
     "metadata": {},
     "output_type": "execute_result"
    }
   ],
   "source": [
    "# what are our shortest sentences now?\n",
    "df.sort_values(by='length').head(5)"
   ]
  },
  {
   "cell_type": "code",
   "execution_count": 23,
   "metadata": {
    "colab": {},
    "colab_type": "code",
    "id": "AxyT0OP72Xp3"
   },
   "outputs": [
    {
     "data": {
      "text/plain": [
       "4    3145\n",
       "2    3074\n",
       "1    1785\n",
       "3     394\n",
       "5     385\n",
       "0     371\n",
       "Name: labels, dtype: int64"
      ]
     },
     "execution_count": 23,
     "metadata": {},
     "output_type": "execute_result"
    }
   ],
   "source": [
    "df['labels'].value_counts()"
   ]
  },
  {
   "cell_type": "markdown",
   "metadata": {
    "colab_type": "text",
    "id": "hrgpG2NFobFE"
   },
   "source": [
    "FInally, we save the processed dataset to a CSV file called `model_input.csv`, to be used by the **`classifier.ipynb`** notebook for class balancing and, ultimately, for classification."
   ]
  },
  {
   "cell_type": "code",
   "execution_count": 24,
   "metadata": {
    "colab": {},
    "colab_type": "code",
    "id": "005_1czq5JIS"
   },
   "outputs": [],
   "source": [
    "# when using `speeches.csv`\n",
    "# df[['labels', 'text']].to_csv('../data/model_input.csv', index=False)\n",
    "\n",
    "# when using `speeches_extended.csv`\n",
    "df[['labels', 'text']].to_csv('../data/model_input_extended.csv', index=False)"
   ]
  }
 ],
 "metadata": {
  "accelerator": "GPU",
  "colab": {
   "collapsed_sections": [],
   "name": "pre-processing.ipynb",
   "provenance": [
    {
     "file_id": "15kL7ZxocIQ5R58-WJTkv4TZp84uKqssQ",
     "timestamp": 1537187879456
    },
    {
     "file_id": "https://github.com/fastai/fastai/blob/master/courses/dl2/imdb.ipynb",
     "timestamp": 1536846729496
    }
   ],
   "version": "0.3.2"
  },
  "kernelspec": {
   "display_name": "Python 3",
   "language": "python",
   "name": "python3"
  },
  "language_info": {
   "codemirror_mode": {
    "name": "ipython",
    "version": 3
   },
   "file_extension": ".py",
   "mimetype": "text/x-python",
   "name": "python",
   "nbconvert_exporter": "python",
   "pygments_lexer": "ipython3",
   "version": "3.6.6"
  }
 },
 "nbformat": 4,
 "nbformat_minor": 2
}
